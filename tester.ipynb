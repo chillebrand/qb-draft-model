{
 "metadata": {
  "language_info": {
   "codemirror_mode": {
    "name": "ipython",
    "version": 3
   },
   "file_extension": ".py",
   "mimetype": "text/x-python",
   "name": "python",
   "nbconvert_exporter": "python",
   "pygments_lexer": "ipython3",
   "version": "3.7.6-final"
  },
  "orig_nbformat": 2,
  "kernelspec": {
   "name": "python3",
   "display_name": "Python 3",
   "language": "python"
  }
 },
 "nbformat": 4,
 "nbformat_minor": 2,
 "cells": [
  {
   "cell_type": "code",
   "execution_count": 1,
   "metadata": {},
   "outputs": [],
   "source": [
    "import pandas as pd \n",
    "from urllib.request import urlopen\n",
    "from bs4 import BeautifulSoup"
   ]
  },
  {
   "cell_type": "code",
   "execution_count": 2,
   "metadata": {},
   "outputs": [],
   "source": [
    "url_2010 = \"http://www.pro-football-reference.com/years/2010/draft.htm\"\n",
    "\n",
    "# get the html\n",
    "html = urlopen(url_2010)\n",
    "\n",
    "# create the BeautifulSoup object\n",
    "soup = BeautifulSoup(html, \"lxml\")"
   ]
  },
  {
   "cell_type": "code",
   "execution_count": 3,
   "metadata": {},
   "outputs": [],
   "source": [
    "# Extract the necessary values for the column headers from the table\n",
    "# and store them as a list\n",
    "column_headers = [th.getText() for th in \n",
    "                  soup.findAll('tr', limit=2)[1].findAll('th')]\n",
    "\n",
    "# Add the two additional column headers for the player links\n",
    "column_headers.extend([\"Player_NFL_Link\", \"Player_NCAA_Link\"])"
   ]
  },
  {
   "cell_type": "code",
   "execution_count": 4,
   "metadata": {},
   "outputs": [],
   "source": [
    "# The data is found within the table rows of the element with id=draft\n",
    "# We want the elements from the 3rd row and on\n",
    "table_rows = soup.select(\"#drafts tr\")[2:]"
   ]
  },
  {
   "cell_type": "code",
   "execution_count": 5,
   "metadata": {},
   "outputs": [
    {
     "output_type": "execute_result",
     "data": {
      "text/plain": [
       "<tr><th class=\"right\" data-stat=\"draft_round\" scope=\"row\">1</th><td class=\"right\" csk=\"0.5\" data-stat=\"draft_pick\">1</td><td class=\"left\" csk=\"ram01\" data-stat=\"team\"><a href=\"/teams/ram/2010_draft.htm\" title=\"St. Louis Rams\">STL</a></td><td class=\"left\" csk=\"Bradford,Sam\" data-append-csv=\"BradSa00\" data-stat=\"player\"><a href=\"/players/B/BradSa00.htm\">Sam Bradford </a></td><td class=\"left\" csk=\"QB--------0001\" data-stat=\"pos\">QB</td><td class=\"right\" data-stat=\"age\">22</td><td class=\"right\" data-stat=\"year_max\">2018</td><td class=\"right iz\" data-stat=\"all_pros_first_team\">0</td><td class=\"right iz\" data-stat=\"pro_bowls\">0</td><td class=\"right\" data-stat=\"years_as_primary_starter\">5</td><td class=\"right\" data-stat=\"career_av\">44</td><td class=\"right\" data-stat=\"draft_av\">24</td><td class=\"right\" data-stat=\"g\">83</td><td class=\"right\" data-stat=\"pass_cmp\">1855</td><td class=\"right\" data-stat=\"pass_att\">2967</td><td class=\"right\" data-stat=\"pass_yds\">19449</td><td class=\"right\" data-stat=\"pass_td\">103</td><td class=\"right\" data-stat=\"pass_int\">61</td><td class=\"right\" data-stat=\"rush_att\">146</td><td class=\"right\" data-stat=\"rush_yds\">340</td><td class=\"right\" data-stat=\"rush_td\">2</td><td class=\"right\" data-stat=\"rec\">1</td><td class=\"right\" data-stat=\"rec_yds\">5</td><td class=\"right iz\" data-stat=\"rec_td\">0</td><td class=\"right iz\" data-stat=\"tackles_solo\"></td><td class=\"right iz\" data-stat=\"def_int\"></td><td class=\"right iz\" data-stat=\"sacks\"></td><td class=\"left\" data-stat=\"college_id\"><a href=\"https://www.pro-football-reference.com/schools/oklahoma/\">Oklahoma</a></td><td class=\"right\" data-stat=\"college_link\"><a href=\"http://www.sports-reference.com/cfb/players/sam-bradford-1.html\">College Stats</a></td></tr>"
      ]
     },
     "metadata": {},
     "execution_count": 5
    }
   ],
   "source": [
    "table_rows[0]"
   ]
  },
  {
   "cell_type": "code",
   "execution_count": 6,
   "metadata": {},
   "outputs": [],
   "source": [
    "def extract_player_data(table_rows):\n",
    "    \"\"\"\n",
    "    Extract and return the the desired information from the td elements within\n",
    "    the table rows.\n",
    "    \"\"\"\n",
    "    # create the empty list to store the player data\n",
    "    player_data = []\n",
    "    \n",
    "    for row in table_rows:  # for each row do the following\n",
    "\n",
    "        # Get the text for each table data (td) element in the row\n",
    "        # Some player names end with ' HOF', if they do, get the text excluding\n",
    "        # those last 4 characters,\n",
    "        # otherwise get all the text data from the table data\n",
    "        player_list = [td.get_text() for td in row.find_all(\"th\")]\n",
    "        player_list.extend([td.get_text() for td in row.find_all(\"td\")])\n",
    "\n",
    "        # there are some empty table rows, which are the repeated \n",
    "        # column headers in the table\n",
    "        # we skip over those rows and and continue the for loop\n",
    "        if not player_list:\n",
    "            continue\n",
    "\n",
    "        # Extracting the player links\n",
    "        # Instead of a list we create a dictionary, this way we can easily\n",
    "        # match the player name with their pfr url\n",
    "        # For all \"a\" elements in the row, get the text\n",
    "        # NOTE: Same \" HOF\" text issue as the player_list above\n",
    "        links_dict = {(link.get_text()[:-4]   # exclude the last 4 characters\n",
    "                       if link.get_text().endswith(\" HOF\")  # if they are \" HOF\"\n",
    "                       # else get all text, set thet as the dictionary key \n",
    "                       # and set the url as the value\n",
    "                       else link.get_text()) : link[\"href\"] \n",
    "                       for link in row.find_all(\"a\", href=True)}\n",
    "\n",
    "        # The data we want from the dictionary can be extracted using the\n",
    "        # player's name, which returns us their pfr url, and \"College Stats\"\n",
    "        # which returns us their college stats page\n",
    "    \n",
    "        # add the link associated to the player's pro-football-reference page, \n",
    "        # or en empty string if there is no link\n",
    "        player_list.append(links_dict.get(player_list[3], \"\"))\n",
    "\n",
    "        # add the link for the player's college stats or an empty string\n",
    "        # if ther is no link\n",
    "        player_list.append(links_dict.get(\"College Stats\", \"\"))\n",
    "\n",
    "        # Now append the data to list of data\n",
    "        player_data.append(player_list)\n",
    "        \n",
    "    return player_data"
   ]
  },
  {
   "cell_type": "code",
   "execution_count": 7,
   "metadata": {},
   "outputs": [
    {
     "output_type": "execute_result",
     "data": {
      "text/plain": [
       "  Rnd Pick   Tm          Player Pos Age    To AP1 PB  St  ... Rec Yds TD Solo  \\\n",
       "0   1    1  STL   Sam Bradford   QB  22  2018   0  0   5  ...   1   5  0        \n",
       "1   1    2  DET   Ndamukong Suh  DT  23  2020   3  5  11  ...   0   0  0  368   \n",
       "2   1    3  TAM    Gerald McCoy  DT  22  2019   1  6  10  ...   0   0  0  235   \n",
       "3   1    4  WAS  Trent Williams   T  22  2020   0  7  10  ...   0   0  0        \n",
       "4   1    5  KAN     Eric Berry   DB  21  2018   3  5   5  ...   0   0  0  377   \n",
       "\n",
       "  Int    Sk College/Univ                         Player_NFL_Link  \\\n",
       "0               Oklahoma  College Stats  /players/B/BradSa00.htm   \n",
       "1   1  63.5     Nebraska  College Stats  /players/S/SuhxNd99.htm   \n",
       "2      59.5     Oklahoma  College Stats  /players/M/McCoGe99.htm   \n",
       "3               Oklahoma  College Stats  /players/W/WillTr21.htm   \n",
       "4  14   5.5    Tennessee  College Stats  /players/B/BerrEr99.htm   \n",
       "\n",
       "                                    Player_NCAA_Link  \n",
       "0  http://www.sports-reference.com/cfb/players/sa...  \n",
       "1  http://www.sports-reference.com/cfb/players/nd...  \n",
       "2  http://www.sports-reference.com/cfb/players/ge...  \n",
       "3  http://www.sports-reference.com/cfb/players/tr...  \n",
       "4  http://www.sports-reference.com/cfb/players/er...  \n",
       "\n",
       "[5 rows x 31 columns]"
      ],
      "text/html": "<div>\n<style scoped>\n    .dataframe tbody tr th:only-of-type {\n        vertical-align: middle;\n    }\n\n    .dataframe tbody tr th {\n        vertical-align: top;\n    }\n\n    .dataframe thead th {\n        text-align: right;\n    }\n</style>\n<table border=\"1\" class=\"dataframe\">\n  <thead>\n    <tr style=\"text-align: right;\">\n      <th></th>\n      <th>Rnd</th>\n      <th>Pick</th>\n      <th>Tm</th>\n      <th>Player</th>\n      <th>Pos</th>\n      <th>Age</th>\n      <th>To</th>\n      <th>AP1</th>\n      <th>PB</th>\n      <th>St</th>\n      <th>...</th>\n      <th>Rec</th>\n      <th>Yds</th>\n      <th>TD</th>\n      <th>Solo</th>\n      <th>Int</th>\n      <th>Sk</th>\n      <th>College/Univ</th>\n      <th></th>\n      <th>Player_NFL_Link</th>\n      <th>Player_NCAA_Link</th>\n    </tr>\n  </thead>\n  <tbody>\n    <tr>\n      <th>0</th>\n      <td>1</td>\n      <td>1</td>\n      <td>STL</td>\n      <td>Sam Bradford</td>\n      <td>QB</td>\n      <td>22</td>\n      <td>2018</td>\n      <td>0</td>\n      <td>0</td>\n      <td>5</td>\n      <td>...</td>\n      <td>1</td>\n      <td>5</td>\n      <td>0</td>\n      <td></td>\n      <td></td>\n      <td></td>\n      <td>Oklahoma</td>\n      <td>College Stats</td>\n      <td>/players/B/BradSa00.htm</td>\n      <td>http://www.sports-reference.com/cfb/players/sa...</td>\n    </tr>\n    <tr>\n      <th>1</th>\n      <td>1</td>\n      <td>2</td>\n      <td>DET</td>\n      <td>Ndamukong Suh</td>\n      <td>DT</td>\n      <td>23</td>\n      <td>2020</td>\n      <td>3</td>\n      <td>5</td>\n      <td>11</td>\n      <td>...</td>\n      <td>0</td>\n      <td>0</td>\n      <td>0</td>\n      <td>368</td>\n      <td>1</td>\n      <td>63.5</td>\n      <td>Nebraska</td>\n      <td>College Stats</td>\n      <td>/players/S/SuhxNd99.htm</td>\n      <td>http://www.sports-reference.com/cfb/players/nd...</td>\n    </tr>\n    <tr>\n      <th>2</th>\n      <td>1</td>\n      <td>3</td>\n      <td>TAM</td>\n      <td>Gerald McCoy</td>\n      <td>DT</td>\n      <td>22</td>\n      <td>2019</td>\n      <td>1</td>\n      <td>6</td>\n      <td>10</td>\n      <td>...</td>\n      <td>0</td>\n      <td>0</td>\n      <td>0</td>\n      <td>235</td>\n      <td></td>\n      <td>59.5</td>\n      <td>Oklahoma</td>\n      <td>College Stats</td>\n      <td>/players/M/McCoGe99.htm</td>\n      <td>http://www.sports-reference.com/cfb/players/ge...</td>\n    </tr>\n    <tr>\n      <th>3</th>\n      <td>1</td>\n      <td>4</td>\n      <td>WAS</td>\n      <td>Trent Williams</td>\n      <td>T</td>\n      <td>22</td>\n      <td>2020</td>\n      <td>0</td>\n      <td>7</td>\n      <td>10</td>\n      <td>...</td>\n      <td>0</td>\n      <td>0</td>\n      <td>0</td>\n      <td></td>\n      <td></td>\n      <td></td>\n      <td>Oklahoma</td>\n      <td>College Stats</td>\n      <td>/players/W/WillTr21.htm</td>\n      <td>http://www.sports-reference.com/cfb/players/tr...</td>\n    </tr>\n    <tr>\n      <th>4</th>\n      <td>1</td>\n      <td>5</td>\n      <td>KAN</td>\n      <td>Eric Berry</td>\n      <td>DB</td>\n      <td>21</td>\n      <td>2018</td>\n      <td>3</td>\n      <td>5</td>\n      <td>5</td>\n      <td>...</td>\n      <td>0</td>\n      <td>0</td>\n      <td>0</td>\n      <td>377</td>\n      <td>14</td>\n      <td>5.5</td>\n      <td>Tennessee</td>\n      <td>College Stats</td>\n      <td>/players/B/BerrEr99.htm</td>\n      <td>http://www.sports-reference.com/cfb/players/er...</td>\n    </tr>\n  </tbody>\n</table>\n<p>5 rows × 31 columns</p>\n</div>"
     },
     "metadata": {},
     "execution_count": 7
    }
   ],
   "source": [
    "# extract the data we want\n",
    "data = extract_player_data(table_rows)\n",
    "\n",
    "# and then store it in a DataFrame\n",
    "df_2010 = pd.DataFrame(data, columns=column_headers)\n",
    "df_2010.head()"
   ]
  },
  {
   "cell_type": "code",
   "execution_count": 12,
   "metadata": {},
   "outputs": [],
   "source": [
    "# Create an empty list that will contain all the dataframes\n",
    "# (one dataframe for each draft)\n",
    "draft_dfs_list = []\n",
    "\n",
    "# a list to store any errors that may come up while scraping\n",
    "errors_list = []"
   ]
  },
  {
   "cell_type": "code",
   "execution_count": 14,
   "metadata": {},
   "outputs": [],
   "source": [
    "# The url template that we pass in the draft year inro\n",
    "url_template = \"http://www.pro-football-reference.com/years/{year}/draft.htm\"\n",
    "\n",
    "years = range(2010,2016)\n",
    "# for each year from 1967 to (and including) 2016\n",
    "for year in years: \n",
    "    \n",
    "    # Use try/except block to catch and inspect any urls that cause an error\n",
    "    try:\n",
    "        # get the draft url\n",
    "        url = url_template.format(year=year)\n",
    "\n",
    "        # get the html\n",
    "        html = urlopen(url)\n",
    "\n",
    "        # create the BeautifulSoup object\n",
    "        soup = BeautifulSoup(html, \"lxml\") \n",
    "\n",
    "        # get the column headers\n",
    "        column_headers = [th.getText() for th in \n",
    "                          soup.findAll('tr', limit=2)[1].findAll('th')]\n",
    "        column_headers.extend([\"Player_NFL_Link\", \"Player_NCAA_Link\"])\n",
    "\n",
    "        # select the data from the table using the '#drafts tr' CSS selector\n",
    "        table_rows = soup.select(\"#drafts tr\")[2:] \n",
    "\n",
    "        # extract the player data from the table rows\n",
    "        player_data = extract_player_data(table_rows)\n",
    "\n",
    "        # create the dataframe for the current years draft\n",
    "        year_df = pd.DataFrame(player_data, columns=column_headers)\n",
    "\n",
    "        # if it is a draft from before 1994 then add a Tkl column at the \n",
    "        # 24th position\n",
    "        if year < 1994:\n",
    "            year_df.insert(24, \"Tkl\", \"\")\n",
    "\n",
    "        # add the year of the draft to the dataframe\n",
    "        year_df.insert(0, \"Draft_Yr\", year)\n",
    "\n",
    "        # append the current dataframe to the list of dataframes\n",
    "        draft_dfs_list.append(year_df)\n",
    "    \n",
    "    except Exception as e:\n",
    "        # Store the url and the error it causes in a list\n",
    "        error =[url, e] \n",
    "        # then append it to the list of errors\n",
    "        errors_list.append(error)"
   ]
  },
  {
   "cell_type": "code",
   "execution_count": 15,
   "metadata": {},
   "outputs": [
    {
     "output_type": "execute_result",
     "data": {
      "text/plain": [
       "0"
      ]
     },
     "metadata": {},
     "execution_count": 15
    }
   ],
   "source": [
    "len(errors_list)"
   ]
  },
  {
   "cell_type": "code",
   "execution_count": 16,
   "metadata": {},
   "outputs": [
    {
     "output_type": "execute_result",
     "data": {
      "text/plain": [
       "   Draft_Yr Rnd Pick   Tm          Player Pos Age    To AP1 PB  ... Rec Yds  \\\n",
       "0      2010   1    1  STL   Sam Bradford   QB  22  2018   0  0  ...   1   5   \n",
       "1      2010   1    2  DET   Ndamukong Suh  DT  23  2020   3  5  ...   0   0   \n",
       "2      2010   1    3  TAM    Gerald McCoy  DT  22  2019   1  6  ...   0   0   \n",
       "3      2010   1    4  WAS  Trent Williams   T  22  2020   0  7  ...   0   0   \n",
       "4      2010   1    5  KAN     Eric Berry   DB  21  2018   3  5  ...   0   0   \n",
       "\n",
       "  TD Solo Int    Sk College/Univ                         Player_NFL_Link  \\\n",
       "0  0                    Oklahoma  College Stats  /players/B/BradSa00.htm   \n",
       "1  0  368   1  63.5     Nebraska  College Stats  /players/S/SuhxNd99.htm   \n",
       "2  0  235      59.5     Oklahoma  College Stats  /players/M/McCoGe99.htm   \n",
       "3  0                    Oklahoma  College Stats  /players/W/WillTr21.htm   \n",
       "4  0  377  14   5.5    Tennessee  College Stats  /players/B/BerrEr99.htm   \n",
       "\n",
       "                                    Player_NCAA_Link  \n",
       "0  http://www.sports-reference.com/cfb/players/sa...  \n",
       "1  http://www.sports-reference.com/cfb/players/nd...  \n",
       "2  http://www.sports-reference.com/cfb/players/ge...  \n",
       "3  http://www.sports-reference.com/cfb/players/tr...  \n",
       "4  http://www.sports-reference.com/cfb/players/er...  \n",
       "\n",
       "[5 rows x 32 columns]"
      ],
      "text/html": "<div>\n<style scoped>\n    .dataframe tbody tr th:only-of-type {\n        vertical-align: middle;\n    }\n\n    .dataframe tbody tr th {\n        vertical-align: top;\n    }\n\n    .dataframe thead th {\n        text-align: right;\n    }\n</style>\n<table border=\"1\" class=\"dataframe\">\n  <thead>\n    <tr style=\"text-align: right;\">\n      <th></th>\n      <th>Draft_Yr</th>\n      <th>Rnd</th>\n      <th>Pick</th>\n      <th>Tm</th>\n      <th>Player</th>\n      <th>Pos</th>\n      <th>Age</th>\n      <th>To</th>\n      <th>AP1</th>\n      <th>PB</th>\n      <th>...</th>\n      <th>Rec</th>\n      <th>Yds</th>\n      <th>TD</th>\n      <th>Solo</th>\n      <th>Int</th>\n      <th>Sk</th>\n      <th>College/Univ</th>\n      <th></th>\n      <th>Player_NFL_Link</th>\n      <th>Player_NCAA_Link</th>\n    </tr>\n  </thead>\n  <tbody>\n    <tr>\n      <th>0</th>\n      <td>2010</td>\n      <td>1</td>\n      <td>1</td>\n      <td>STL</td>\n      <td>Sam Bradford</td>\n      <td>QB</td>\n      <td>22</td>\n      <td>2018</td>\n      <td>0</td>\n      <td>0</td>\n      <td>...</td>\n      <td>1</td>\n      <td>5</td>\n      <td>0</td>\n      <td></td>\n      <td></td>\n      <td></td>\n      <td>Oklahoma</td>\n      <td>College Stats</td>\n      <td>/players/B/BradSa00.htm</td>\n      <td>http://www.sports-reference.com/cfb/players/sa...</td>\n    </tr>\n    <tr>\n      <th>1</th>\n      <td>2010</td>\n      <td>1</td>\n      <td>2</td>\n      <td>DET</td>\n      <td>Ndamukong Suh</td>\n      <td>DT</td>\n      <td>23</td>\n      <td>2020</td>\n      <td>3</td>\n      <td>5</td>\n      <td>...</td>\n      <td>0</td>\n      <td>0</td>\n      <td>0</td>\n      <td>368</td>\n      <td>1</td>\n      <td>63.5</td>\n      <td>Nebraska</td>\n      <td>College Stats</td>\n      <td>/players/S/SuhxNd99.htm</td>\n      <td>http://www.sports-reference.com/cfb/players/nd...</td>\n    </tr>\n    <tr>\n      <th>2</th>\n      <td>2010</td>\n      <td>1</td>\n      <td>3</td>\n      <td>TAM</td>\n      <td>Gerald McCoy</td>\n      <td>DT</td>\n      <td>22</td>\n      <td>2019</td>\n      <td>1</td>\n      <td>6</td>\n      <td>...</td>\n      <td>0</td>\n      <td>0</td>\n      <td>0</td>\n      <td>235</td>\n      <td></td>\n      <td>59.5</td>\n      <td>Oklahoma</td>\n      <td>College Stats</td>\n      <td>/players/M/McCoGe99.htm</td>\n      <td>http://www.sports-reference.com/cfb/players/ge...</td>\n    </tr>\n    <tr>\n      <th>3</th>\n      <td>2010</td>\n      <td>1</td>\n      <td>4</td>\n      <td>WAS</td>\n      <td>Trent Williams</td>\n      <td>T</td>\n      <td>22</td>\n      <td>2020</td>\n      <td>0</td>\n      <td>7</td>\n      <td>...</td>\n      <td>0</td>\n      <td>0</td>\n      <td>0</td>\n      <td></td>\n      <td></td>\n      <td></td>\n      <td>Oklahoma</td>\n      <td>College Stats</td>\n      <td>/players/W/WillTr21.htm</td>\n      <td>http://www.sports-reference.com/cfb/players/tr...</td>\n    </tr>\n    <tr>\n      <th>4</th>\n      <td>2010</td>\n      <td>1</td>\n      <td>5</td>\n      <td>KAN</td>\n      <td>Eric Berry</td>\n      <td>DB</td>\n      <td>21</td>\n      <td>2018</td>\n      <td>3</td>\n      <td>5</td>\n      <td>...</td>\n      <td>0</td>\n      <td>0</td>\n      <td>0</td>\n      <td>377</td>\n      <td>14</td>\n      <td>5.5</td>\n      <td>Tennessee</td>\n      <td>College Stats</td>\n      <td>/players/B/BerrEr99.htm</td>\n      <td>http://www.sports-reference.com/cfb/players/er...</td>\n    </tr>\n  </tbody>\n</table>\n<p>5 rows × 32 columns</p>\n</div>"
     },
     "metadata": {},
     "execution_count": 16
    }
   ],
   "source": [
    "# store all drafts in one DataFrame\n",
    "draft_df = pd.concat(draft_dfs_list, ignore_index=True)\n",
    "draft_df.head()"
   ]
  },
  {
   "cell_type": "code",
   "execution_count": 18,
   "metadata": {},
   "outputs": [
    {
     "output_type": "execute_result",
     "data": {
      "text/plain": [
       "    Draft_Yr Rnd Pick   Tm           Player Pos Age    To AP1 PB  ... Rec Yds  \\\n",
       "0       2010   1    1  STL    Sam Bradford   QB  22  2018   0  0  ...   1   5   \n",
       "1       2010   1   25  DEN        Tim Tebow  QB  23  2012   0  0  ...   0   0   \n",
       "2       2010   2   48  CAR    Jimmy Clausen  QB  22  2015   0  0  ...   0   0   \n",
       "3       2010   3   85  CLE       Colt McCoy  QB  24  2020   0  0  ...   2   8   \n",
       "4       2010   4  122  PHI       Mike Kafka  QB  23  2014   0  0  ...   0   0   \n",
       "..       ...  ..  ...  ...              ...  ..  ..   ...  .. ..  ...  ..  ..   \n",
       "63      2015   3   75  NOR  Garrett Grayson  QB  24  2015   0  0  ...   0   0   \n",
       "64      2015   3   89  STL     Sean Mannion  QB  23  2019   0  0  ...   0   0   \n",
       "65      2015   4  103  NYJ      Bryce Petty  QB  24  2017   0  0  ...   0   0   \n",
       "66      2015   5  147  GNB    Brett Hundley  QB  22  2019   0  0  ...   1  10   \n",
       "67      2015   7  250  DEN  Trevor Siemian   QB  23  2019   0  0  ...   0   0   \n",
       "\n",
       "   TD Solo Int Sk  College/Univ                         Player_NFL_Link  \\\n",
       "0   0                  Oklahoma  College Stats  /players/B/BradSa00.htm   \n",
       "1   0    1              Florida  College Stats  /players/T/TeboTi00.htm   \n",
       "2   0                Notre Dame  College Stats  /players/C/ClauJi00.htm   \n",
       "3   0                     Texas  College Stats  /players/M/McCoCo00.htm   \n",
       "4   0              Northwestern  College Stats  /players/K/KafkMi00.htm   \n",
       ".. ..  ...  .. ..           ...            ...                      ...   \n",
       "63  0              Colorado St.  College Stats  /players/G/GrayGa00.htm   \n",
       "64  0                Oregon St.  College Stats  /players/M/MannSe00.htm   \n",
       "65  0                    Baylor  College Stats  /players/P/PettBr01.htm   \n",
       "66  0                      UCLA  College Stats  /players/H/HundBr00.htm   \n",
       "67  0              Northwestern  College Stats  /players/S/SiemTr00.htm   \n",
       "\n",
       "                                     Player_NCAA_Link  \n",
       "0   http://www.sports-reference.com/cfb/players/sa...  \n",
       "1   http://www.sports-reference.com/cfb/players/ti...  \n",
       "2   http://www.sports-reference.com/cfb/players/ji...  \n",
       "3   http://www.sports-reference.com/cfb/players/co...  \n",
       "4   http://www.sports-reference.com/cfb/players/mi...  \n",
       "..                                                ...  \n",
       "63  http://www.sports-reference.com/cfb/players/ga...  \n",
       "64  http://www.sports-reference.com/cfb/players/se...  \n",
       "65  http://www.sports-reference.com/cfb/players/br...  \n",
       "66  http://www.sports-reference.com/cfb/players/br...  \n",
       "67  http://www.sports-reference.com/cfb/players/tr...  \n",
       "\n",
       "[68 rows x 32 columns]"
      ],
      "text/html": "<div>\n<style scoped>\n    .dataframe tbody tr th:only-of-type {\n        vertical-align: middle;\n    }\n\n    .dataframe tbody tr th {\n        vertical-align: top;\n    }\n\n    .dataframe thead th {\n        text-align: right;\n    }\n</style>\n<table border=\"1\" class=\"dataframe\">\n  <thead>\n    <tr style=\"text-align: right;\">\n      <th></th>\n      <th>Draft_Yr</th>\n      <th>Rnd</th>\n      <th>Pick</th>\n      <th>Tm</th>\n      <th>Player</th>\n      <th>Pos</th>\n      <th>Age</th>\n      <th>To</th>\n      <th>AP1</th>\n      <th>PB</th>\n      <th>...</th>\n      <th>Rec</th>\n      <th>Yds</th>\n      <th>TD</th>\n      <th>Solo</th>\n      <th>Int</th>\n      <th>Sk</th>\n      <th>College/Univ</th>\n      <th></th>\n      <th>Player_NFL_Link</th>\n      <th>Player_NCAA_Link</th>\n    </tr>\n  </thead>\n  <tbody>\n    <tr>\n      <th>0</th>\n      <td>2010</td>\n      <td>1</td>\n      <td>1</td>\n      <td>STL</td>\n      <td>Sam Bradford</td>\n      <td>QB</td>\n      <td>22</td>\n      <td>2018</td>\n      <td>0</td>\n      <td>0</td>\n      <td>...</td>\n      <td>1</td>\n      <td>5</td>\n      <td>0</td>\n      <td></td>\n      <td></td>\n      <td></td>\n      <td>Oklahoma</td>\n      <td>College Stats</td>\n      <td>/players/B/BradSa00.htm</td>\n      <td>http://www.sports-reference.com/cfb/players/sa...</td>\n    </tr>\n    <tr>\n      <th>1</th>\n      <td>2010</td>\n      <td>1</td>\n      <td>25</td>\n      <td>DEN</td>\n      <td>Tim Tebow</td>\n      <td>QB</td>\n      <td>23</td>\n      <td>2012</td>\n      <td>0</td>\n      <td>0</td>\n      <td>...</td>\n      <td>0</td>\n      <td>0</td>\n      <td>0</td>\n      <td>1</td>\n      <td></td>\n      <td></td>\n      <td>Florida</td>\n      <td>College Stats</td>\n      <td>/players/T/TeboTi00.htm</td>\n      <td>http://www.sports-reference.com/cfb/players/ti...</td>\n    </tr>\n    <tr>\n      <th>2</th>\n      <td>2010</td>\n      <td>2</td>\n      <td>48</td>\n      <td>CAR</td>\n      <td>Jimmy Clausen</td>\n      <td>QB</td>\n      <td>22</td>\n      <td>2015</td>\n      <td>0</td>\n      <td>0</td>\n      <td>...</td>\n      <td>0</td>\n      <td>0</td>\n      <td>0</td>\n      <td></td>\n      <td></td>\n      <td></td>\n      <td>Notre Dame</td>\n      <td>College Stats</td>\n      <td>/players/C/ClauJi00.htm</td>\n      <td>http://www.sports-reference.com/cfb/players/ji...</td>\n    </tr>\n    <tr>\n      <th>3</th>\n      <td>2010</td>\n      <td>3</td>\n      <td>85</td>\n      <td>CLE</td>\n      <td>Colt McCoy</td>\n      <td>QB</td>\n      <td>24</td>\n      <td>2020</td>\n      <td>0</td>\n      <td>0</td>\n      <td>...</td>\n      <td>2</td>\n      <td>8</td>\n      <td>0</td>\n      <td></td>\n      <td></td>\n      <td></td>\n      <td>Texas</td>\n      <td>College Stats</td>\n      <td>/players/M/McCoCo00.htm</td>\n      <td>http://www.sports-reference.com/cfb/players/co...</td>\n    </tr>\n    <tr>\n      <th>4</th>\n      <td>2010</td>\n      <td>4</td>\n      <td>122</td>\n      <td>PHI</td>\n      <td>Mike Kafka</td>\n      <td>QB</td>\n      <td>23</td>\n      <td>2014</td>\n      <td>0</td>\n      <td>0</td>\n      <td>...</td>\n      <td>0</td>\n      <td>0</td>\n      <td>0</td>\n      <td></td>\n      <td></td>\n      <td></td>\n      <td>Northwestern</td>\n      <td>College Stats</td>\n      <td>/players/K/KafkMi00.htm</td>\n      <td>http://www.sports-reference.com/cfb/players/mi...</td>\n    </tr>\n    <tr>\n      <th>...</th>\n      <td>...</td>\n      <td>...</td>\n      <td>...</td>\n      <td>...</td>\n      <td>...</td>\n      <td>...</td>\n      <td>...</td>\n      <td>...</td>\n      <td>...</td>\n      <td>...</td>\n      <td>...</td>\n      <td>...</td>\n      <td>...</td>\n      <td>...</td>\n      <td>...</td>\n      <td>...</td>\n      <td>...</td>\n      <td>...</td>\n      <td>...</td>\n      <td>...</td>\n      <td>...</td>\n    </tr>\n    <tr>\n      <th>63</th>\n      <td>2015</td>\n      <td>3</td>\n      <td>75</td>\n      <td>NOR</td>\n      <td>Garrett Grayson</td>\n      <td>QB</td>\n      <td>24</td>\n      <td>2015</td>\n      <td>0</td>\n      <td>0</td>\n      <td>...</td>\n      <td>0</td>\n      <td>0</td>\n      <td>0</td>\n      <td></td>\n      <td></td>\n      <td></td>\n      <td>Colorado St.</td>\n      <td>College Stats</td>\n      <td>/players/G/GrayGa00.htm</td>\n      <td>http://www.sports-reference.com/cfb/players/ga...</td>\n    </tr>\n    <tr>\n      <th>64</th>\n      <td>2015</td>\n      <td>3</td>\n      <td>89</td>\n      <td>STL</td>\n      <td>Sean Mannion</td>\n      <td>QB</td>\n      <td>23</td>\n      <td>2019</td>\n      <td>0</td>\n      <td>0</td>\n      <td>...</td>\n      <td>0</td>\n      <td>0</td>\n      <td>0</td>\n      <td></td>\n      <td></td>\n      <td></td>\n      <td>Oregon St.</td>\n      <td>College Stats</td>\n      <td>/players/M/MannSe00.htm</td>\n      <td>http://www.sports-reference.com/cfb/players/se...</td>\n    </tr>\n    <tr>\n      <th>65</th>\n      <td>2015</td>\n      <td>4</td>\n      <td>103</td>\n      <td>NYJ</td>\n      <td>Bryce Petty</td>\n      <td>QB</td>\n      <td>24</td>\n      <td>2017</td>\n      <td>0</td>\n      <td>0</td>\n      <td>...</td>\n      <td>0</td>\n      <td>0</td>\n      <td>0</td>\n      <td></td>\n      <td></td>\n      <td></td>\n      <td>Baylor</td>\n      <td>College Stats</td>\n      <td>/players/P/PettBr01.htm</td>\n      <td>http://www.sports-reference.com/cfb/players/br...</td>\n    </tr>\n    <tr>\n      <th>66</th>\n      <td>2015</td>\n      <td>5</td>\n      <td>147</td>\n      <td>GNB</td>\n      <td>Brett Hundley</td>\n      <td>QB</td>\n      <td>22</td>\n      <td>2019</td>\n      <td>0</td>\n      <td>0</td>\n      <td>...</td>\n      <td>1</td>\n      <td>10</td>\n      <td>0</td>\n      <td></td>\n      <td></td>\n      <td></td>\n      <td>UCLA</td>\n      <td>College Stats</td>\n      <td>/players/H/HundBr00.htm</td>\n      <td>http://www.sports-reference.com/cfb/players/br...</td>\n    </tr>\n    <tr>\n      <th>67</th>\n      <td>2015</td>\n      <td>7</td>\n      <td>250</td>\n      <td>DEN</td>\n      <td>Trevor Siemian</td>\n      <td>QB</td>\n      <td>23</td>\n      <td>2019</td>\n      <td>0</td>\n      <td>0</td>\n      <td>...</td>\n      <td>0</td>\n      <td>0</td>\n      <td>0</td>\n      <td></td>\n      <td></td>\n      <td></td>\n      <td>Northwestern</td>\n      <td>College Stats</td>\n      <td>/players/S/SiemTr00.htm</td>\n      <td>http://www.sports-reference.com/cfb/players/tr...</td>\n    </tr>\n  </tbody>\n</table>\n<p>68 rows × 32 columns</p>\n</div>"
     },
     "metadata": {},
     "execution_count": 18
    }
   ],
   "source": [
    "df_qbs = draft_df[draft_df['Pos'] == 'QB']\n",
    "df_qbs = df_qbs.reset_index(drop=True)\n",
    "df_qbs"
   ]
  },
  {
   "cell_type": "code",
   "execution_count": 24,
   "metadata": {},
   "outputs": [
    {
     "output_type": "execute_result",
     "data": {
      "text/plain": [
       "    Draft_Yr Rnd Pick   Tm           Player Pos Age    To St   G  \\\n",
       "0       2010   1    1  STL    Sam Bradford   QB  22  2018  5  83   \n",
       "1       2010   1   25  DEN        Tim Tebow  QB  23  2012  1  35   \n",
       "2       2010   2   48  CAR    Jimmy Clausen  QB  22  2015  1  21   \n",
       "3       2010   3   85  CLE       Colt McCoy  QB  24  2020  2  43   \n",
       "4       2010   4  122  PHI       Mike Kafka  QB  23  2014  0   4   \n",
       "..       ...  ..  ...  ...              ...  ..  ..   ... ..  ..   \n",
       "63      2015   3   75  NOR  Garrett Grayson  QB  24  2015  0   1   \n",
       "64      2015   3   89  STL     Sean Mannion  QB  23  2019  0  13   \n",
       "65      2015   4  103  NYJ      Bryce Petty  QB  24  2017  0  10   \n",
       "66      2015   5  147  GNB    Brett Hundley  QB  22  2019  1  18   \n",
       "67      2015   7  250  DEN  Trevor Siemian   QB  23  2019  2  27   \n",
       "\n",
       "    College/Univ          Player_NFL_Link  \\\n",
       "0       Oklahoma  /players/B/BradSa00.htm   \n",
       "1        Florida  /players/T/TeboTi00.htm   \n",
       "2     Notre Dame  /players/C/ClauJi00.htm   \n",
       "3          Texas  /players/M/McCoCo00.htm   \n",
       "4   Northwestern  /players/K/KafkMi00.htm   \n",
       "..           ...                      ...   \n",
       "63  Colorado St.  /players/G/GrayGa00.htm   \n",
       "64    Oregon St.  /players/M/MannSe00.htm   \n",
       "65        Baylor  /players/P/PettBr01.htm   \n",
       "66          UCLA  /players/H/HundBr00.htm   \n",
       "67  Northwestern  /players/S/SiemTr00.htm   \n",
       "\n",
       "                                     Player_NCAA_Link  \n",
       "0   http://www.sports-reference.com/cfb/players/sa...  \n",
       "1   http://www.sports-reference.com/cfb/players/ti...  \n",
       "2   http://www.sports-reference.com/cfb/players/ji...  \n",
       "3   http://www.sports-reference.com/cfb/players/co...  \n",
       "4   http://www.sports-reference.com/cfb/players/mi...  \n",
       "..                                                ...  \n",
       "63  http://www.sports-reference.com/cfb/players/ga...  \n",
       "64  http://www.sports-reference.com/cfb/players/se...  \n",
       "65  http://www.sports-reference.com/cfb/players/br...  \n",
       "66  http://www.sports-reference.com/cfb/players/br...  \n",
       "67  http://www.sports-reference.com/cfb/players/tr...  \n",
       "\n",
       "[68 rows x 13 columns]"
      ],
      "text/html": "<div>\n<style scoped>\n    .dataframe tbody tr th:only-of-type {\n        vertical-align: middle;\n    }\n\n    .dataframe tbody tr th {\n        vertical-align: top;\n    }\n\n    .dataframe thead th {\n        text-align: right;\n    }\n</style>\n<table border=\"1\" class=\"dataframe\">\n  <thead>\n    <tr style=\"text-align: right;\">\n      <th></th>\n      <th>Draft_Yr</th>\n      <th>Rnd</th>\n      <th>Pick</th>\n      <th>Tm</th>\n      <th>Player</th>\n      <th>Pos</th>\n      <th>Age</th>\n      <th>To</th>\n      <th>St</th>\n      <th>G</th>\n      <th>College/Univ</th>\n      <th>Player_NFL_Link</th>\n      <th>Player_NCAA_Link</th>\n    </tr>\n  </thead>\n  <tbody>\n    <tr>\n      <th>0</th>\n      <td>2010</td>\n      <td>1</td>\n      <td>1</td>\n      <td>STL</td>\n      <td>Sam Bradford</td>\n      <td>QB</td>\n      <td>22</td>\n      <td>2018</td>\n      <td>5</td>\n      <td>83</td>\n      <td>Oklahoma</td>\n      <td>/players/B/BradSa00.htm</td>\n      <td>http://www.sports-reference.com/cfb/players/sa...</td>\n    </tr>\n    <tr>\n      <th>1</th>\n      <td>2010</td>\n      <td>1</td>\n      <td>25</td>\n      <td>DEN</td>\n      <td>Tim Tebow</td>\n      <td>QB</td>\n      <td>23</td>\n      <td>2012</td>\n      <td>1</td>\n      <td>35</td>\n      <td>Florida</td>\n      <td>/players/T/TeboTi00.htm</td>\n      <td>http://www.sports-reference.com/cfb/players/ti...</td>\n    </tr>\n    <tr>\n      <th>2</th>\n      <td>2010</td>\n      <td>2</td>\n      <td>48</td>\n      <td>CAR</td>\n      <td>Jimmy Clausen</td>\n      <td>QB</td>\n      <td>22</td>\n      <td>2015</td>\n      <td>1</td>\n      <td>21</td>\n      <td>Notre Dame</td>\n      <td>/players/C/ClauJi00.htm</td>\n      <td>http://www.sports-reference.com/cfb/players/ji...</td>\n    </tr>\n    <tr>\n      <th>3</th>\n      <td>2010</td>\n      <td>3</td>\n      <td>85</td>\n      <td>CLE</td>\n      <td>Colt McCoy</td>\n      <td>QB</td>\n      <td>24</td>\n      <td>2020</td>\n      <td>2</td>\n      <td>43</td>\n      <td>Texas</td>\n      <td>/players/M/McCoCo00.htm</td>\n      <td>http://www.sports-reference.com/cfb/players/co...</td>\n    </tr>\n    <tr>\n      <th>4</th>\n      <td>2010</td>\n      <td>4</td>\n      <td>122</td>\n      <td>PHI</td>\n      <td>Mike Kafka</td>\n      <td>QB</td>\n      <td>23</td>\n      <td>2014</td>\n      <td>0</td>\n      <td>4</td>\n      <td>Northwestern</td>\n      <td>/players/K/KafkMi00.htm</td>\n      <td>http://www.sports-reference.com/cfb/players/mi...</td>\n    </tr>\n    <tr>\n      <th>...</th>\n      <td>...</td>\n      <td>...</td>\n      <td>...</td>\n      <td>...</td>\n      <td>...</td>\n      <td>...</td>\n      <td>...</td>\n      <td>...</td>\n      <td>...</td>\n      <td>...</td>\n      <td>...</td>\n      <td>...</td>\n      <td>...</td>\n    </tr>\n    <tr>\n      <th>63</th>\n      <td>2015</td>\n      <td>3</td>\n      <td>75</td>\n      <td>NOR</td>\n      <td>Garrett Grayson</td>\n      <td>QB</td>\n      <td>24</td>\n      <td>2015</td>\n      <td>0</td>\n      <td>1</td>\n      <td>Colorado St.</td>\n      <td>/players/G/GrayGa00.htm</td>\n      <td>http://www.sports-reference.com/cfb/players/ga...</td>\n    </tr>\n    <tr>\n      <th>64</th>\n      <td>2015</td>\n      <td>3</td>\n      <td>89</td>\n      <td>STL</td>\n      <td>Sean Mannion</td>\n      <td>QB</td>\n      <td>23</td>\n      <td>2019</td>\n      <td>0</td>\n      <td>13</td>\n      <td>Oregon St.</td>\n      <td>/players/M/MannSe00.htm</td>\n      <td>http://www.sports-reference.com/cfb/players/se...</td>\n    </tr>\n    <tr>\n      <th>65</th>\n      <td>2015</td>\n      <td>4</td>\n      <td>103</td>\n      <td>NYJ</td>\n      <td>Bryce Petty</td>\n      <td>QB</td>\n      <td>24</td>\n      <td>2017</td>\n      <td>0</td>\n      <td>10</td>\n      <td>Baylor</td>\n      <td>/players/P/PettBr01.htm</td>\n      <td>http://www.sports-reference.com/cfb/players/br...</td>\n    </tr>\n    <tr>\n      <th>66</th>\n      <td>2015</td>\n      <td>5</td>\n      <td>147</td>\n      <td>GNB</td>\n      <td>Brett Hundley</td>\n      <td>QB</td>\n      <td>22</td>\n      <td>2019</td>\n      <td>1</td>\n      <td>18</td>\n      <td>UCLA</td>\n      <td>/players/H/HundBr00.htm</td>\n      <td>http://www.sports-reference.com/cfb/players/br...</td>\n    </tr>\n    <tr>\n      <th>67</th>\n      <td>2015</td>\n      <td>7</td>\n      <td>250</td>\n      <td>DEN</td>\n      <td>Trevor Siemian</td>\n      <td>QB</td>\n      <td>23</td>\n      <td>2019</td>\n      <td>2</td>\n      <td>27</td>\n      <td>Northwestern</td>\n      <td>/players/S/SiemTr00.htm</td>\n      <td>http://www.sports-reference.com/cfb/players/tr...</td>\n    </tr>\n  </tbody>\n</table>\n<p>68 rows × 13 columns</p>\n</div>"
     },
     "metadata": {},
     "execution_count": 24
    }
   ],
   "source": [
    "rows = ['Draft_Yr', 'Rnd', 'Pick', 'Tm', 'Player', 'Pos', 'Age', 'To', 'St', 'G', 'College/Univ', 'Player_NFL_Link', 'Player_NCAA_Link']\n",
    "df_qbs = df_qbs[rows]\n",
    "df_qbs"
   ]
  },
  {
   "cell_type": "code",
   "execution_count": 25,
   "metadata": {},
   "outputs": [
    {
     "output_type": "execute_result",
     "data": {
      "text/plain": [
       "   Unnamed: 0  Draft_Yr  Rnd  Pick   Tm         Player Pos  Age      To  St  \\\n",
       "0           0      2010    1     1  STL  Sam Bradford   QB   22  2018.0   5   \n",
       "1           1      2010    1    25  DEN      Tim Tebow  QB   23  2012.0   1   \n",
       "2           2      2010    2    48  CAR  Jimmy Clausen  QB   22  2015.0   1   \n",
       "3           3      2010    3    85  CLE     Colt McCoy  QB   24  2020.0   2   \n",
       "4           4      2010    4   122  PHI     Mike Kafka  QB   23  2014.0   0   \n",
       "\n",
       "      G  College/Univ          Player_NFL_Link  \\\n",
       "0  83.0      Oklahoma  /players/B/BradSa00.htm   \n",
       "1  35.0       Florida  /players/T/TeboTi00.htm   \n",
       "2  21.0    Notre Dame  /players/C/ClauJi00.htm   \n",
       "3  43.0         Texas  /players/M/McCoCo00.htm   \n",
       "4   4.0  Northwestern  /players/K/KafkMi00.htm   \n",
       "\n",
       "                                    Player_NCAA_Link  \n",
       "0  http://www.sports-reference.com/cfb/players/sa...  \n",
       "1  http://www.sports-reference.com/cfb/players/ti...  \n",
       "2  http://www.sports-reference.com/cfb/players/ji...  \n",
       "3  http://www.sports-reference.com/cfb/players/co...  \n",
       "4  http://www.sports-reference.com/cfb/players/mi...  "
      ],
      "text/html": "<div>\n<style scoped>\n    .dataframe tbody tr th:only-of-type {\n        vertical-align: middle;\n    }\n\n    .dataframe tbody tr th {\n        vertical-align: top;\n    }\n\n    .dataframe thead th {\n        text-align: right;\n    }\n</style>\n<table border=\"1\" class=\"dataframe\">\n  <thead>\n    <tr style=\"text-align: right;\">\n      <th></th>\n      <th>Unnamed: 0</th>\n      <th>Draft_Yr</th>\n      <th>Rnd</th>\n      <th>Pick</th>\n      <th>Tm</th>\n      <th>Player</th>\n      <th>Pos</th>\n      <th>Age</th>\n      <th>To</th>\n      <th>St</th>\n      <th>G</th>\n      <th>College/Univ</th>\n      <th>Player_NFL_Link</th>\n      <th>Player_NCAA_Link</th>\n    </tr>\n  </thead>\n  <tbody>\n    <tr>\n      <th>0</th>\n      <td>0</td>\n      <td>2010</td>\n      <td>1</td>\n      <td>1</td>\n      <td>STL</td>\n      <td>Sam Bradford</td>\n      <td>QB</td>\n      <td>22</td>\n      <td>2018.0</td>\n      <td>5</td>\n      <td>83.0</td>\n      <td>Oklahoma</td>\n      <td>/players/B/BradSa00.htm</td>\n      <td>http://www.sports-reference.com/cfb/players/sa...</td>\n    </tr>\n    <tr>\n      <th>1</th>\n      <td>1</td>\n      <td>2010</td>\n      <td>1</td>\n      <td>25</td>\n      <td>DEN</td>\n      <td>Tim Tebow</td>\n      <td>QB</td>\n      <td>23</td>\n      <td>2012.0</td>\n      <td>1</td>\n      <td>35.0</td>\n      <td>Florida</td>\n      <td>/players/T/TeboTi00.htm</td>\n      <td>http://www.sports-reference.com/cfb/players/ti...</td>\n    </tr>\n    <tr>\n      <th>2</th>\n      <td>2</td>\n      <td>2010</td>\n      <td>2</td>\n      <td>48</td>\n      <td>CAR</td>\n      <td>Jimmy Clausen</td>\n      <td>QB</td>\n      <td>22</td>\n      <td>2015.0</td>\n      <td>1</td>\n      <td>21.0</td>\n      <td>Notre Dame</td>\n      <td>/players/C/ClauJi00.htm</td>\n      <td>http://www.sports-reference.com/cfb/players/ji...</td>\n    </tr>\n    <tr>\n      <th>3</th>\n      <td>3</td>\n      <td>2010</td>\n      <td>3</td>\n      <td>85</td>\n      <td>CLE</td>\n      <td>Colt McCoy</td>\n      <td>QB</td>\n      <td>24</td>\n      <td>2020.0</td>\n      <td>2</td>\n      <td>43.0</td>\n      <td>Texas</td>\n      <td>/players/M/McCoCo00.htm</td>\n      <td>http://www.sports-reference.com/cfb/players/co...</td>\n    </tr>\n    <tr>\n      <th>4</th>\n      <td>4</td>\n      <td>2010</td>\n      <td>4</td>\n      <td>122</td>\n      <td>PHI</td>\n      <td>Mike Kafka</td>\n      <td>QB</td>\n      <td>23</td>\n      <td>2014.0</td>\n      <td>0</td>\n      <td>4.0</td>\n      <td>Northwestern</td>\n      <td>/players/K/KafkMi00.htm</td>\n      <td>http://www.sports-reference.com/cfb/players/mi...</td>\n    </tr>\n  </tbody>\n</table>\n</div>"
     },
     "metadata": {},
     "execution_count": 25
    }
   ],
   "source": [
    " cleaned = pd.read_csv('data/draft_qbs_2010-2015.csv')\n",
    " cleaned.head()"
   ]
  },
  {
   "cell_type": "code",
   "execution_count": 26,
   "metadata": {},
   "outputs": [
    {
     "output_type": "execute_result",
     "data": {
      "text/plain": [
       "(68, 14)"
      ]
     },
     "metadata": {},
     "execution_count": 26
    }
   ],
   "source": [
    "cleaned.shape"
   ]
  },
  {
   "cell_type": "code",
   "execution_count": null,
   "metadata": {},
   "outputs": [],
   "source": []
  }
 ]
}