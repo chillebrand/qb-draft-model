{
 "metadata": {
  "language_info": {
   "codemirror_mode": {
    "name": "ipython",
    "version": 3
   },
   "file_extension": ".py",
   "mimetype": "text/x-python",
   "name": "python",
   "nbconvert_exporter": "python",
   "pygments_lexer": "ipython3",
   "version": "3.7.6-final"
  },
  "orig_nbformat": 2,
  "kernelspec": {
   "name": "python3",
   "display_name": "Python 3",
   "language": "python"
  }
 },
 "nbformat": 4,
 "nbformat_minor": 2,
 "cells": [
  {
   "cell_type": "code",
   "execution_count": 4,
   "metadata": {},
   "outputs": [
    {
     "output_type": "execute_result",
     "data": {
      "text/plain": [
       "   Unnamed: 0  Draft_Yr  Rnd  Pick   Tm             Player Pos   Age      To  \\\n",
       "0           0      2000    1    18  NYJ    Chad Pennington  QB  24.0  2010.0   \n",
       "1           1      2000    3    65  SFO  Giovanni Carmazzi  QB   NaN     NaN   \n",
       "2           2      2000    3    75  BAL       Chris Redman  QB  23.0  2011.0   \n",
       "3           3      2000    5   163  PIT        Tee Martin   QB  22.0  2003.0   \n",
       "4           4      2000    6   168  NOR        Marc Bulger  QB  23.0  2009.0   \n",
       "5           5      2000    6   183  CLE       Spergon Wynn  QB  22.0  2001.0   \n",
       "6           6      2000    6   199  NWE         Tom Brady   QB  23.0  2020.0   \n",
       "7           7      2000    6   202  WAS         Todd Husak  QB  22.0  2000.0   \n",
       "8           8      2000    6   205  SDG      JaJuan Seider  QB   NaN     NaN   \n",
       "9           9      2000    7   212  SFO         Tim Rattay  QB  23.0  2007.0   \n",
       "\n",
       "   St      G    College/Univ          Player_NFL_Link  \\\n",
       "0   5   89.0        Marshall  /players/P/PennCh01.htm   \n",
       "1   0    NaN         Hofstra                      NaN   \n",
       "2   0   31.0      Louisville  /players/R/RedmCh00.htm   \n",
       "3   0    3.0       Tennessee  /players/M/MartTe00.htm   \n",
       "4   8   96.0   West Virginia  /players/B/BulgMa00.htm   \n",
       "5   0   10.0       Texas St.  /players/W/WynnSp00.htm   \n",
       "6  19  298.0        Michigan  /players/B/BradTo00.htm   \n",
       "7   0    1.0        Stanford  /players/H/HusaTo20.htm   \n",
       "8   0    NaN     Florida A&M                      NaN   \n",
       "9   1   40.0  Louisiana Tech  /players/R/RattTi00.htm   \n",
       "\n",
       "                                    Player_NCAA_Link  \n",
       "0  http://www.sports-reference.com/cfb/players/ch...  \n",
       "1                                                NaN  \n",
       "2  http://www.sports-reference.com/cfb/players/ch...  \n",
       "3  http://www.sports-reference.com/cfb/players/te...  \n",
       "4  http://www.sports-reference.com/cfb/players/ma...  \n",
       "5  http://www.sports-reference.com/cfb/players/sp...  \n",
       "6  http://www.sports-reference.com/cfb/players/to...  \n",
       "7  http://www.sports-reference.com/cfb/players/to...  \n",
       "8                                                NaN  \n",
       "9  http://www.sports-reference.com/cfb/players/ti...  "
      ],
      "text/html": "<div>\n<style scoped>\n    .dataframe tbody tr th:only-of-type {\n        vertical-align: middle;\n    }\n\n    .dataframe tbody tr th {\n        vertical-align: top;\n    }\n\n    .dataframe thead th {\n        text-align: right;\n    }\n</style>\n<table border=\"1\" class=\"dataframe\">\n  <thead>\n    <tr style=\"text-align: right;\">\n      <th></th>\n      <th>Unnamed: 0</th>\n      <th>Draft_Yr</th>\n      <th>Rnd</th>\n      <th>Pick</th>\n      <th>Tm</th>\n      <th>Player</th>\n      <th>Pos</th>\n      <th>Age</th>\n      <th>To</th>\n      <th>St</th>\n      <th>G</th>\n      <th>College/Univ</th>\n      <th>Player_NFL_Link</th>\n      <th>Player_NCAA_Link</th>\n    </tr>\n  </thead>\n  <tbody>\n    <tr>\n      <th>0</th>\n      <td>0</td>\n      <td>2000</td>\n      <td>1</td>\n      <td>18</td>\n      <td>NYJ</td>\n      <td>Chad Pennington</td>\n      <td>QB</td>\n      <td>24.0</td>\n      <td>2010.0</td>\n      <td>5</td>\n      <td>89.0</td>\n      <td>Marshall</td>\n      <td>/players/P/PennCh01.htm</td>\n      <td>http://www.sports-reference.com/cfb/players/ch...</td>\n    </tr>\n    <tr>\n      <th>1</th>\n      <td>1</td>\n      <td>2000</td>\n      <td>3</td>\n      <td>65</td>\n      <td>SFO</td>\n      <td>Giovanni Carmazzi</td>\n      <td>QB</td>\n      <td>NaN</td>\n      <td>NaN</td>\n      <td>0</td>\n      <td>NaN</td>\n      <td>Hofstra</td>\n      <td>NaN</td>\n      <td>NaN</td>\n    </tr>\n    <tr>\n      <th>2</th>\n      <td>2</td>\n      <td>2000</td>\n      <td>3</td>\n      <td>75</td>\n      <td>BAL</td>\n      <td>Chris Redman</td>\n      <td>QB</td>\n      <td>23.0</td>\n      <td>2011.0</td>\n      <td>0</td>\n      <td>31.0</td>\n      <td>Louisville</td>\n      <td>/players/R/RedmCh00.htm</td>\n      <td>http://www.sports-reference.com/cfb/players/ch...</td>\n    </tr>\n    <tr>\n      <th>3</th>\n      <td>3</td>\n      <td>2000</td>\n      <td>5</td>\n      <td>163</td>\n      <td>PIT</td>\n      <td>Tee Martin</td>\n      <td>QB</td>\n      <td>22.0</td>\n      <td>2003.0</td>\n      <td>0</td>\n      <td>3.0</td>\n      <td>Tennessee</td>\n      <td>/players/M/MartTe00.htm</td>\n      <td>http://www.sports-reference.com/cfb/players/te...</td>\n    </tr>\n    <tr>\n      <th>4</th>\n      <td>4</td>\n      <td>2000</td>\n      <td>6</td>\n      <td>168</td>\n      <td>NOR</td>\n      <td>Marc Bulger</td>\n      <td>QB</td>\n      <td>23.0</td>\n      <td>2009.0</td>\n      <td>8</td>\n      <td>96.0</td>\n      <td>West Virginia</td>\n      <td>/players/B/BulgMa00.htm</td>\n      <td>http://www.sports-reference.com/cfb/players/ma...</td>\n    </tr>\n    <tr>\n      <th>5</th>\n      <td>5</td>\n      <td>2000</td>\n      <td>6</td>\n      <td>183</td>\n      <td>CLE</td>\n      <td>Spergon Wynn</td>\n      <td>QB</td>\n      <td>22.0</td>\n      <td>2001.0</td>\n      <td>0</td>\n      <td>10.0</td>\n      <td>Texas St.</td>\n      <td>/players/W/WynnSp00.htm</td>\n      <td>http://www.sports-reference.com/cfb/players/sp...</td>\n    </tr>\n    <tr>\n      <th>6</th>\n      <td>6</td>\n      <td>2000</td>\n      <td>6</td>\n      <td>199</td>\n      <td>NWE</td>\n      <td>Tom Brady</td>\n      <td>QB</td>\n      <td>23.0</td>\n      <td>2020.0</td>\n      <td>19</td>\n      <td>298.0</td>\n      <td>Michigan</td>\n      <td>/players/B/BradTo00.htm</td>\n      <td>http://www.sports-reference.com/cfb/players/to...</td>\n    </tr>\n    <tr>\n      <th>7</th>\n      <td>7</td>\n      <td>2000</td>\n      <td>6</td>\n      <td>202</td>\n      <td>WAS</td>\n      <td>Todd Husak</td>\n      <td>QB</td>\n      <td>22.0</td>\n      <td>2000.0</td>\n      <td>0</td>\n      <td>1.0</td>\n      <td>Stanford</td>\n      <td>/players/H/HusaTo20.htm</td>\n      <td>http://www.sports-reference.com/cfb/players/to...</td>\n    </tr>\n    <tr>\n      <th>8</th>\n      <td>8</td>\n      <td>2000</td>\n      <td>6</td>\n      <td>205</td>\n      <td>SDG</td>\n      <td>JaJuan Seider</td>\n      <td>QB</td>\n      <td>NaN</td>\n      <td>NaN</td>\n      <td>0</td>\n      <td>NaN</td>\n      <td>Florida A&amp;M</td>\n      <td>NaN</td>\n      <td>NaN</td>\n    </tr>\n    <tr>\n      <th>9</th>\n      <td>9</td>\n      <td>2000</td>\n      <td>7</td>\n      <td>212</td>\n      <td>SFO</td>\n      <td>Tim Rattay</td>\n      <td>QB</td>\n      <td>23.0</td>\n      <td>2007.0</td>\n      <td>1</td>\n      <td>40.0</td>\n      <td>Louisiana Tech</td>\n      <td>/players/R/RattTi00.htm</td>\n      <td>http://www.sports-reference.com/cfb/players/ti...</td>\n    </tr>\n  </tbody>\n</table>\n</div>"
     },
     "metadata": {},
     "execution_count": 4
    }
   ],
   "source": [
    "import pandas as pd \n",
    "\n",
    "df = pd.read_csv('data/draft_qbs_2000-2015.csv')\n",
    "df.head(10)"
   ]
  },
  {
   "cell_type": "code",
   "execution_count": 5,
   "metadata": {},
   "outputs": [
    {
     "output_type": "execute_result",
     "data": {
      "text/plain": [
       "(198, 14)"
      ]
     },
     "metadata": {},
     "execution_count": 5
    }
   ],
   "source": [
    "df.shape"
   ]
  },
  {
   "cell_type": "code",
   "execution_count": null,
   "metadata": {},
   "outputs": [],
   "source": [
    "for "
   ]
  }
 ]
}